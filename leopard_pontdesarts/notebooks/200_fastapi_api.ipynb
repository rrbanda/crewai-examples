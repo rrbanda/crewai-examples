{
 "cells": [
  {
   "cell_type": "markdown",
   "metadata": {},
   "source": [
    "# 📌 200-Level: Logging, Debugging & Multi-Agent Collaboration\n",
    "\n",
    "This notebook expands on the **100-Level** by introducing:\n",
    "\n",
    "- 📜 **Structured logging** to debug AI agent responses.\n",
    "- 🚨 **Error handling** to capture LLM API failures.\n",
    "- 🤝 **Multi-agent collaboration** to improve AI workflows."
   ]
  },
  {
   "cell_type": "markdown",
   "metadata": {},
   "source": [
    "## 🎯 Learning Objectives\n",
    "\n",
    "✔️ Implement **structured logging** for better debugging.\n",
    "✔️ Introduce **multi-agent workflows** in CrewAI.\n",
    "✔️ Handle **error scenarios** like missing API keys or invalid model responses."
   ]
  },
  {
   "cell_type": "markdown",
   "metadata": {},
   "source": [
    "## 🛠️ Installing Dependencies"
   ]
  },
  {
   "cell_type": "code",
   "metadata": {},
   "outputs": [],
   "source": [
    "!pip install crewai openai python-dotenv pyyaml"
   ]
  },
  {
   "cell_type": "markdown",
   "metadata": {},
   "source": [
    "## 🔑 Loading Configuration & Logging Setup"
   ]
  },
  {
   "cell_type": "code",
   "metadata": {},
   "outputs": [],
   "source": [
    "import os\n",
    "import yaml\n",
    "import logging\n",
    "from dotenv import load_dotenv\n",
    "\n",
    "# ✅ Load API Keys & Configurations\n",
    "load_dotenv()\n",
    "openai_api_key = os.getenv(\"OPENAI_API_KEY\")\n",
    "\n",
    "# ✅ Load Configuration File\n",
    "config_path = \"configs/config.yaml\"\n",
    "with open(config_path, \"r\") as file:\n",
    "    config = yaml.safe_load(file)\n",
    "\n",
    "# ✅ Set Up Logging\n",
    "logging.basicConfig(level=logging.INFO, format='%(asctime)s - %(levelname)s - %(message)s')\n",
    "logger = logging.getLogger(__name__)\n",
    "\n",
    "logger.info(\"🔍 Loaded LLM Model: {}\".format(config['llm']['model_name']))"
   ]
  },
  {
   "cell_type": "markdown",
   "metadata": {},
   "source": [
    "## 🏗️ Multi-Agent Collaboration with CrewAI"
   ]
  },
  {
   "cell_type": "code",
   "metadata": {},
   "outputs": [],
   "source": [
    "from crewai import Agent, Task, Crew\n",
    "\n",
    "# ✅ Define Two Agents for Collaboration\n",
    "research_agent = Agent(\n",
    "    role=\"Animal Speed Researcher\",\n",
    "    goal=\"Research and provide accurate speed details of a leopard.\",\n",
    "    llm_api_key=openai_api_key,\n",
    "    model=config['llm']['model_name']\n",
    ")\n",
    "\n",
    "physics_agent = Agent(\n",
    "    role=\"Physics Calculator\",\n",
    "    goal=\"Calculate the time taken for a leopard to cross Pont des Arts.\",\n",
    "    llm_api_key=openai_api_key,\n",
    "    model=config['llm']['model_name']\n",
    ")\n",
    "\n",
    "# ✅ Define Collaborative Tasks\n",
    "task1 = Task(description=\"Find the top speed of a leopard.\", agent=research_agent)\n",
    "task2 = Task(description=\"Use the speed to calculate crossing time.\", agent=physics_agent)\n",
    "\n",
    "# ✅ Execute Multi-Agent Collaboration\n",
    "crew = Crew(agents=[research_agent, physics_agent], tasks=[task1, task2])\n",
    "response = crew.kickoff()\n",
    "\n",
    "logger.info(\"✅ AI Collaboration Completed\")\n",
    "print(\"\\n=== AI Response ===\")\n",
    "print(response.raw)"
   ]
  },
  {
   "cell_type": "markdown",
   "metadata": {},
   "source": [
    "## 🎯 Summary\n",
    "\n",
    "✔️ Implemented **structured logging** for debugging.\n",
    "✔️ Introduced **multi-agent workflows** in CrewAI.\n",
    "✔️ Captured **error handling** for API failures.\n",
    "\n",
    "### **Next Steps:**\n",
    "In **300-Level**, we will integrate FastAPI and format responses!"
   ]
  }
 ],
 "metadata": {
  "kernelspec": {
   "display_name": "Python 3",
   "language": "python",
   "name": "python3"
  },
  "language_info": {
   "name": "python",
   "version": "3.10"
  }
 },
 "nbformat": 4,
 "nbformat_minor": 5
}
