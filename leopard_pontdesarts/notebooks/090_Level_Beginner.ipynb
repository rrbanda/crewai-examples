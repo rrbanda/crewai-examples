{
 "cells": [
  {
   "cell_type": "markdown",
   "metadata": {},
   "source": [
    "# 📌 090-Level Beginner Example: Getting Started with CrewAI\n",
    "\n",
    "This notebook provides a minimal example of using **CrewAI** to run an AI agent."
   ]
  },
  {
   "cell_type": "markdown",
   "metadata": {},
   "source": [
    "## 🎯 Learning Objectives\n",
    "\n",
    "✔️ Understand how CrewAI works with a single agent.\n",
    "✔️ Execute a simple task using **GPT-4o** from OpenAI.\n",
    "✔️ Get a direct AI-generated response to a user query."
   ]
  },
  {
   "cell_type": "markdown",
   "metadata": {},
   "source": [
    "## 🛠️ Installing Dependencies\n",
    "Ensure you have CrewAI installed before running this notebook."
   ]
  },
  {
   "cell_type": "code",
   "metadata": {},
   "outputs": [],
   "source": [
    "!pip install crewai openai python-dotenv"
   ]
  },
  {
   "cell_type": "markdown",
   "metadata": {},
   "source": [
    "## 🔑 Setting Up OpenAI API Key\n",
    "To prevent hardcoding API keys, we will load it from a `.env` file."
   ]
  },
  {
   "cell_type": "code",
   "metadata": {},
   "outputs": [],
   "source": [
    "import os\n",
    "from dotenv import load_dotenv\n",
    "\n",
    "# Load API Key from .env file\n",
    "load_dotenv()\n",
    "openai_api_key = os.getenv(\"OPENAI_API_KEY\")\n",
    "\n",
    "if not openai_api_key:\n",
    "    raise ValueError(\"❌ OpenAI API Key is missing! Please set OPENAI_API_KEY in a .env file.\")"
   ]
  },
  {
   "cell_type": "markdown",
   "metadata": {},
   "source": [
    "## 🏗️ Creating a CrewAI Agent\n",
    "We define a simple **LeopardAI Agent** who specializes in physics and speed-related queries."
   ]
  },
  {
   "cell_type": "code",
   "metadata": {},
   "outputs": [],
   "source": [
    "from crewai import Agent, Task, Crew\n",
    "\n",
    "# Define the AI Agent\n",
    "leopard_agent = Agent(\n",
    "    role=\"Physics Researcher\",\n",
    "    goal=\"Answer speed-related physics questions accurately.\",\n",
    "    backstory=\"A renowned scientist specializing in animal speed research.\",\n",
    "    llm_api_key=openai_api_key,\n",
    "    model=\"gpt-4o\"\n",
    ")\n",
    "\n",
    "# Define the Task\n",
    "task = Task(\n",
    "    description=\"How many seconds would it take for a leopard at full speed to run through Pont des Arts?\",\n",
    "    agent=leopard_agent\n",
    ")\n",
    "\n",
    "# Execute the Task\n",
    "crew = Crew(agents=[leopard_agent], tasks=[task])\n",
    "response = crew.kickoff()\n",
    "\n",
    "# Print Response\n",
    "print(\"\\n=== AI Response ===\")\n",
    "print(response.raw)"
   ]
  },
  {
   "cell_type": "markdown",
   "metadata": {},
   "source": [
    "## 🎯 Summary\n",
    "\n",
    "✔️ We created an AI Agent using **CrewAI**.\n",
    "✔️ We used **GPT-4o** for reasoning and response generation.\n",
    "✔️ We executed a single task and displayed the response.\n",
    "\n",
    "### **Next Steps:**\n",
    "To scale this further, check out **100-Level**, where we introduce configuration files and environment-based settings!"
   ]
  }
 ],
 "metadata": {
  "kernelspec": {
   "display_name": "Python 3",
   "language": "python",
   "name": "python3"
  },
  "language_info": {
   "name": "python",
   "version": "3.10"
  }
 },
 "nbformat": 4,
 "nbformat_minor": 5
}
