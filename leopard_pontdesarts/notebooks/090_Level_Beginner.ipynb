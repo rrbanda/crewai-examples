{
 "cells": [
  {
   "cell_type": "markdown",
   "metadata": {},
   "source": [
    "# 📌 090-Level Beginner Example: AI Agent with CrewAI"
   ]
  },
  {
   "cell_type": "markdown",
   "metadata": {},
   "source": [
    "## 🎯 **Objective**\n",
    "This notebook demonstrates how to use **CrewAI** to:\n",
    "- 🔍 Search the internet using **DuckDuckGo**.\n",
    "- 🤖 Use an **AI agent** to reason about retrieved information.\n",
    "- ❓ Answer the question: **\"How many seconds would it take for a leopard at full speed to run through Pont des Arts?\"**"
   ]
  },
  {
   "cell_type": "markdown",
   "metadata": {},
   "source": [
    "## 🤖 What is CrewAI?\n",
    "CrewAI is an **AI orchestration framework** that allows you to build and manage AI agents, each assigned specific roles and responsibilities."
   ]
  },
  {
   "cell_type": "markdown",
   "metadata": {},
   "source": [
    "### 🏗️ **Core Concepts in CrewAI**\n",
    "- **Agent** – An AI entity with a specific role and knowledge domain.\n",
    "- **Task** – A specific instruction given to the agent to execute.\n",
    "- **Crew** – A team of multiple agents collaborating on a task (not used in this beginner example)."
   ]
  },
  {
   "cell_type": "markdown",
   "metadata": {},
   "source": [
    "## 🚀 Step 1: Setup Virtual Environment (Per Notebook)\n",
    "To ensure isolation, **we will create a virtual environment, install dependencies, and clean up after execution.**"
   ]
  },
  {
   "cell_type": "code",
   "execution_count": null,
   "metadata": {},
   "outputs": [],
   "source": [
    "# ✅ Create and activate virtual environment\n",
    "!python -m venv crewai_env && source crewai_env/bin/activate"
   ]
  },
  {
   "cell_type": "markdown",
   "metadata": {},
   "source": [
    "## 📦 Step 2: Install Dependencies\n",
    "Install **CrewAI**, **DuckDuckGoSearchTool**, and **OpenAI SDK** inside the virtual environment."
   ]
  },
  {
   "cell_type": "code",
   "execution_count": null,
   "metadata": {},
   "outputs": [],
   "source": [
    "!pip install crewai openai duckduckgo-search"
   ]
  },
  {
   "cell_type": "markdown",
   "metadata": {},
   "source": [
    "## 🔑 Step 3: Configuring API Key\n",
    "We need to **set up the OpenAI API key** to allow our agent to access GPT-4o."
   ]
  },
  {
   "cell_type": "code",
   "execution_count": null,
   "metadata": {},
   "outputs": [],
   "source": [
    "# ✅ Define the OpenAI API Key (⚠️ Replace with your valid key)\n",
    "import os\n",
    "os.environ['OPENAI_API_KEY'] = 'your-openai-api-key'"
   ]
  },
  {
   "cell_type": "markdown",
   "metadata": {},
   "source": [
    "## 🌍 Step 4: Define an AI Agent with Web Search\n",
    "We will create an AI **agent** that:\n",
    "- Uses **DuckDuckGoSearchTool** to retrieve real-world data.\n",
    "- Uses **GPT-4o** to analyze and reason about the results."
   ]
  },
  {
   "cell_type": "code",
   "execution_count": null,
   "metadata": {},
   "outputs": [],
   "source": [
    "# ✅ Import necessary libraries\n",
    "from crewai import Agent\n",
    "from duckduckgo_search import DDGS\n",
    "import openai\n",
    "\n",
    "# ✅ Define an Agent with Web Search Capability\n",
    "class LeopardAgent(Agent):\n",
    "    role = \"AI Researcher\"\n",
    "    description = \"An expert in searching the web and reasoning about animal speed.\"\n",
    "\n",
    "    def search_duckduckgo(self, query):\n",
    "        \"\"\"Retrieve real-time information using DuckDuckGo.\"\"\"\n",
    "        with DDGS() as ddgs:\n",
    "            results = [r[\"body\"] for r in ddgs.text(query, max_results=5)]\n",
    "        return \"\\n\".join(results)\n",
    "\n",
    "    def run(self, question):\n",
    "        \"\"\"Search DuckDuckGo and use GPT-4o to analyze the results.\"\"\"\n",
    "        search_results = self.search_duckduckgo(question)\n",
    "\n",
    "        response = openai.ChatCompletion.create(\n",
    "            model=\"gpt-4o\",\n",
    "            messages=[\n",
    "                {\"role\": \"system\", \"content\": \"You are an AI assistant that analyzes search results.\"},\n",
    "                {\"role\": \"user\", \"content\": f\"Here are search results: \\n{search_results}\\n\\nAnswer the question: {question}\"}\n",
    "            ]\n",
    "        )\n",
    "        return response[\"choices\"][0][\"message\"][\"content\"]"
   ]
  },
  {
   "cell_type": "markdown",
   "metadata": {},
   "source": [
    "## 🔥 Step 5: Running the AI Agent\n",
    "Let's **instantiate** the agent and have it answer the question."
   ]
  },
  {
   "cell_type": "code",
   "execution_count": null,
   "metadata": {},
   "outputs": [],
   "source": [
    "# ✅ Instantiate the agent\n",
    "agent = LeopardAgent()"
   ]
  },
  {
   "cell_type": "code",
   "execution_count": null,
   "metadata": {},
   "outputs": [],
   "source": [
    "# ✅ Run the agent with a sample question\n",
    "question = \"How many seconds would it take for a leopard at full speed to run through Pont des Arts?\"\n",
    "response = agent.run(question)\n",
    "\n",
    "# ✅ Display the result\n",
    "print(\"\\n=== Response from AI Agent ===\")\n",
    "print(response)"
   ]
  },
  {
   "cell_type": "markdown",
   "metadata": {},
   "source": [
    "## 🧹 Step 6: Cleanup (Remove Virtual Environment)\n",
    "After the notebook execution, **we remove the virtual environment** to keep our system clean."
   ]
  },
  {
   "cell_type": "code",
   "execution_count": null,
   "metadata": {},
   "outputs": [],
   "source": [
    "!deactivate && rm -rf crewai_env"
   ]
  },
  {
   "cell_type": "markdown",
   "metadata": {},
   "source": [
    "## ✅ **Summary**\n",
    "🎯 You learned how to:\n",
    "- Define an **AI agent** with search capabilities.\n",
    "- Use **DuckDuckGo** to retrieve real-world data.\n",
    "- Use **GPT-4o** to analyze and reason about the results.\n",
    "- **Use a virtual environment** for clean execution.\n",
    "- **Remove the virtual environment** after execution.\n",
    "\n",
    "### 🔜 **Next Steps**\n",
    "➡️ Move to the **100-Level Notebook** to learn about **configuration and LLM portability**."
   ]
  }
 ],
 "metadata": {},
 "nbformat": 4,
 "nbformat_minor": 5
}
