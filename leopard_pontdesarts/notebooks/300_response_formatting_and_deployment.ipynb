{
 "cells": [
  {
   "cell_type": "markdown",
   "metadata": {},
   "source": [
    "# 📌 300-Level: Response Formatting & Deployment\n",
    "\n",
    "This notebook focuses on enhancing CrewAI's agent responses by formatting them for UI visualization. Additionally, we will cover containerization and deployment options for running the FastAPI service in a production environment."
   ]
  },
  {
   "cell_type": "markdown",
   "metadata": {},
   "source": [
    "## 🎯 Learning Objectives\n",
    "\n",
    "✔️ Format AI-generated responses for **structured UI representation**.\n",
    "✔️ Implement a **FastAPI endpoint** to return formatted data.\n",
    "✔️ **Containerize the application** using Podman/Docker for deployment."
   ]
  },
  {
   "cell_type": "markdown",
   "metadata": {},
   "source": [
    "## 🛠️ Installing Dependencies"
   ]
  },
  {
   "cell_type": "code",
   "metadata": {},
   "outputs": [],
   "source": [
    "!pip install fastapi uvicorn pydantic requests yaml crewai openai"
   ]
  },
  {
   "cell_type": "markdown",
   "metadata": {},
   "source": [
    "## 🏗️ FastAPI Response Formatting\n",
    "\n",
    "We'll create an API that formats responses from CrewAI agents into **JSON** or **Markdown** for improved visualization."
   ]
  },
  {
   "cell_type": "code",
   "metadata": {},
   "outputs": [],
   "source": [
    "from fastapi import FastAPI, Query\n",
    "import json\n",
    "import requests\n",
    "import logging\n",
    "import yaml\n",
    "from crewai import Agent\n",
    "\n",
    "app = FastAPI()\n",
    "\n",
    "# ✅ Load Configuration\n",
    "try:\n",
    "    with open(\"configs/config.yaml\", \"r\") as file:\n",
    "        config = yaml.safe_load(file) or {}\n",
    "except FileNotFoundError as e:\n",
    "    logging.error(f\"\u274c Config file not found: {e}\")\n",
    "    config = {}\n",
    "\n",
    "FORMATTER_URL = config.get(\"formatter\", {}).get(\"api_url\", \"http://localhost:8001/process\")\n",
    "LLM_API_KEY = config.get(\"llm\", {}).get(\"api_key\", None)\n",
    "\n",
    "def format_response(data, format_type=\"json\"):\n",
    "    \"\"\"Formats the response as JSON or Markdown.\"\"\"\n",
    "    if format_type == \"json\":\n",
    "        return {\"formatted\": data}\n",
    "    elif format_type == \"markdown\":\n",
    "        return f\"```\n{data}\n```\"\n",
    "    else:\n",
    "        return {\"error\": \"Unsupported format\"}\n",
    "\n",
    "@app.get(\"/formatted-response\")\n",
    "def get_formatted_response(format_type: str = Query(\"json\", description=\"Format type: json or markdown\")):\n",
    "    \"\"\"API to return a formatted response.\"\"\"\n",
    "    sample_response = {\"message\": \"Hello from CrewAI!\"}\n",
    "    return format_response(sample_response, format_type)\n",
    "\n",
    "@app.get(\"/\")\n",
    "def home():\n",
    "    return {\"message\": \"Response Formatting API is running!\"}"
   ]
  },
  {
   "cell_type": "markdown",
   "metadata": {},
   "source": [
    "## 🚀 Running FastAPI Server Locally"
   ]
  },
  {
   "cell_type": "code",
   "metadata": {},
   "outputs": [],
   "source": [
    "!uvicorn src.api:app --host 0.0.0.0 --port 8000 --reload"
   ]
  },
  {
   "cell_type": "markdown",
   "metadata": {},
   "source": [
    "## 📦 Containerizing the Application"
   ]
  },
  {
   "cell_type": "markdown",
   "metadata": {},
   "source": [
    "### 1️⃣ Create a `Containerfile` (or `Dockerfile`)\n",
    "```dockerfile\n",
    "FROM python:3.11\n",
    "WORKDIR /app\n",
    "COPY . .\n",
    "RUN pip install --no-cache-dir -r requirements.txt\n",
    "CMD [\"uvicorn\", \"src.api:app\", \"--host\", \"0.0.0.0\", \"--port\", \"8000\"]\n",
    "```\n",
    "### 2️⃣ Build the container\n",
    "```sh\n",
    "podman build -t response-formatter:latest .\n",
    "```\n",
    "### 3️⃣ Run the container\n",
    "```sh\n",
    "podman run -p 8000:8000 response-formatter:latest\n",
    "```"
   ]
  },
  {
   "cell_type": "markdown",
   "metadata": {},
   "source": [
    "## 🎯 Summary\n",
    "\n",
    "✔️ Implemented a **FastAPI service** to format agent responses.\n",
    "✔️ Supported **JSON and Markdown formatting**.\n",
    "✔️ Containerized the application for **deployment**.\n",
    "\n",
    "### **Next Steps:**\n",
    "We will deploy this service to OpenShift using a Kubernetes pod. 🚀"
   ]
  }
 ],
 "metadata": {
  "kernelspec": {
   "display_name": "Python 3",
   "language": "python",
   "name": "python3"
  },
  "language_info": {
   "name": "python",
   "version": "3.10"
  }
 },
 "nbformat": 4,
 "nbformat_minor": 5
}
